{
 "cells": [
  {
   "cell_type": "code",
   "execution_count": 3,
   "metadata": {
    "collapsed": false
   },
   "outputs": [],
   "source": [
    "import csv\n",
    "import numpy as np\n",
    "import os\n",
    "import scipy.stats\n",
    "import pandas as pd\n",
    "import sqlite3 as sql\n",
    "from scipy.stats import chi2_contingency\n",
    "from matplotlib import pyplot\n",
    "%matplotlib inline"
   ]
  },
  {
   "cell_type": "markdown",
   "metadata": {},
   "source": [
    "# Titanic Data Analysis\n",
    "## Questions to investigate:\n",
    "\n",
    "The sinking of the Titanic was a true tragedy, leaving over 1,500 of the 2,224 passengers dead. The social status of the passengers ranged from the wealthiest people in the world to those hoping to emigrate to the United States with the promise of a better life. This diversity made the population on board the RMS Titanic was a microcosm of Western Europe in 1912. By analyzing the survival data, I am hoping to understand the effects of agem gender, and social status and the survival of the passengers."
   ]
  },
  {
   "cell_type": "markdown",
   "metadata": {},
   "source": [
    "## Loading the Data\n",
    "### First I am loading the data into a Pandas Data frame."
   ]
  },
  {
   "cell_type": "code",
   "execution_count": 4,
   "metadata": {
    "collapsed": false,
    "scrolled": false
   },
   "outputs": [
    {
     "name": "stdout",
     "output_type": "stream",
     "text": [
      "<class 'pandas.core.frame.DataFrame'>\n",
      "RangeIndex: 891 entries, 0 to 890\n",
      "Data columns (total 13 columns):\n",
      "index          891 non-null int64\n",
      "PassengerId    891 non-null int64\n",
      "Survived       891 non-null int64\n",
      "Pclass         891 non-null int64\n",
      "Name           891 non-null object\n",
      "Sex            891 non-null object\n",
      "Age            714 non-null float64\n",
      "SibSp          891 non-null int64\n",
      "Parch          891 non-null int64\n",
      "Ticket         891 non-null object\n",
      "Fare           891 non-null float64\n",
      "Cabin          204 non-null object\n",
      "Embarked       889 non-null object\n",
      "dtypes: float64(2), int64(6), object(5)\n",
      "memory usage: 90.6+ KB\n"
     ]
    }
   ],
   "source": [
    "cwd = os.getcwd()\n",
    "data_set = os.path.join(cwd,\"titanic.db\")\n",
    "conn = sql.connect(data_set)\n",
    "titanic = pd.read_sql(\"select * from titanic;\", conn)\n",
    "titanic.info()"
   ]
  },
  {
   "cell_type": "markdown",
   "metadata": {},
   "source": [
    "The Age variable contains NaN. There are a number of ways to handle non numeric values for age. I could come up with methods of imputing a value for age. This could be applying the mean age to all of the records without a age value. I could also impute this value with a more sophisticated regression model. Both of these methods could bias any insights I may find. Instead I will remove these records from my dataset."
   ]
  },
  {
   "cell_type": "code",
   "execution_count": 5,
   "metadata": {
    "collapsed": false
   },
   "outputs": [],
   "source": [
    "titanic.dropna(subset=['Age'], inplace=True) # remove all rows from dataframe with Age value of NA"
   ]
  },
  {
   "cell_type": "code",
   "execution_count": 6,
   "metadata": {
    "collapsed": false
   },
   "outputs": [
    {
     "data": {
      "text/plain": [
       "0.4061624649859944"
      ]
     },
     "execution_count": 6,
     "metadata": {},
     "output_type": "execute_result"
    }
   ],
   "source": [
    "#The mean of the Survived column gives the survival rate of the passsengers from this dataset.\n",
    "\n",
    "titanic['Survived'].mean() "
   ]
  },
  {
   "cell_type": "markdown",
   "metadata": {},
   "source": [
    "## Investigating titles in the dataset\n",
    "\n",
    "The dataset includes a column the with passenger's title. Titles provide insight to a passenger's social status and gender."
   ]
  },
  {
   "cell_type": "code",
   "execution_count": 7,
   "metadata": {
    "collapsed": false
   },
   "outputs": [
    {
     "data": {
      "text/plain": [
       "Mr              398\n",
       "Miss            146\n",
       "Mrs             108\n",
       "Master           36\n",
       "Rev               6\n",
       "Dr                6\n",
       "Major             2\n",
       "Mlle              2\n",
       "Col               2\n",
       "Don               1\n",
       "the Countess      1\n",
       "Lady              1\n",
       "Jonkheer          1\n",
       "Sir               1\n",
       "Capt              1\n",
       "Ms                1\n",
       "Mme               1\n",
       "Name: Title, dtype: int64"
      ]
     },
     "execution_count": 7,
     "metadata": {},
     "output_type": "execute_result"
    },
    {
     "data": {
      "image/png": "[encoded data removed]",
      "text/plain": [
       "<matplotlib.figure.Figure at 0x11450e208>"
      ]
     },
     "metadata": {},
     "output_type": "display_data"
    }
   ],
   "source": [
    "\n",
    "# the format of the Name feature is Last Name, Title. Husband's Given Name (Wife's Maiden Name if applicable)\n",
    "# lambda function first splits on the comma. It then takes everything from the right of the comma and splits by '.'\n",
    "# the title should be to the left of the '.'\n",
    "titanic['Title'] = titanic['Name'].apply(lambda x: x.split(', ')[1].partition('.')[0])\n",
    "bar_chart = titanic['Title'].value_counts().plot.bar(title =\"Occurences of Titles\",figsize=(7,7),grid =True)\n",
    "bar_chart.set(xlabel = \"Title\",ylabel = \"Count of Title\")\n",
    "titanic['Title'].value_counts()\n"
   ]
  },
  {
   "cell_type": "markdown",
   "metadata": {},
   "source": [
    "It looks like the transformation for the new feature worked for all cases on the dataset.\n",
    "There are a few oddities with the dataset. It appears that the french titles Madame (MME) and Mademoiselle (Mlle) were included. These can be easily mapped to Ms and Mrs. There are a few titles which signs of nobility ([ie the Countess and Jonkheer](https://en.wikipedia.org/wiki/Jonkheer))\n",
    "\n",
    "There is clearly a disproportionate number of Misters vs Miss/Mrs. I will confirm that the sum of the gendered titles match the number of male and female passengers."
   ]
  },
  {
   "cell_type": "code",
   "execution_count": 8,
   "metadata": {
    "collapsed": false
   },
   "outputs": [
    {
     "name": "stdout",
     "output_type": "stream",
     "text": [
      "Sex\n",
      "female    261\n",
      "male      453\n",
      "Name: Sex, dtype: int64\n",
      "The number of female titles: 261\n",
      "The number of male titles: 453\n"
     ]
    }
   ],
   "source": [
    "\n",
    "#Checking the number of male vs female passengers to confirm that the difference in Male vs. Female titles makes sense.\n",
    "Sex = titanic.groupby(by=['Sex'])['Sex'].count()\n",
    "print(Sex)\n",
    "# concatenating the \"female titles\"\n",
    "Female_Titles = titanic['Title'].value_counts()['Miss']\\\n",
    "+titanic['Title'].value_counts()['Mrs']\\\n",
    "+titanic['Title'].value_counts()['Mlle']\\\n",
    "+titanic['Title'].value_counts()['Ms']\\\n",
    "+titanic['Title'].value_counts()['Jonkheer']\\\n",
    "+titanic['Title'].value_counts()['the Countess']\\\n",
    "+titanic['Title'].value_counts()['Mme']\\\n",
    "+titanic['Title'].value_counts()['Lady']\\\n",
    "\n",
    "print(\"The number of female titles: {}\".format(Female_Titles))\n",
    "\n",
    "# concatenating the \"male titles\"\n",
    "Male_Titles = titanic['Title'].value_counts()['Mr']\\\n",
    "+titanic['Title'].value_counts()['Master']\\\n",
    "+titanic['Title'].value_counts()['Dr']\\\n",
    "+titanic['Title'].value_counts()['Rev']\\\n",
    "+titanic['Title'].value_counts()['Major']\\\n",
    "+titanic['Title'].value_counts()['Col']\\\n",
    "+titanic['Title'].value_counts()['Capt']\\\n",
    "+titanic['Title'].value_counts()['Sir']\\\n",
    "+titanic['Title'].value_counts()['Don']\\\n",
    "\n",
    "print(\"The number of male titles: {}\".format(Male_Titles))\n"
   ]
  },
  {
   "cell_type": "markdown",
   "metadata": {},
   "source": [
    "It looks like the passenger count of gender and count of gendered titles match in aggregate.\n",
    "\n",
    "Next I will investigate how ages are distributed across "
   ]
  },
  {
   "cell_type": "code",
   "execution_count": 9,
   "metadata": {
    "collapsed": false,
    "scrolled": false
   },
   "outputs": [
    {
     "data": {
      "text/plain": [
       "[<matplotlib.text.Text at 0x116d7cdd8>, <matplotlib.text.Text at 0x116d33c88>]"
      ]
     },
     "execution_count": 9,
     "metadata": {},
     "output_type": "execute_result"
    },
    {
     "data": {
      "image/png": "[encoded data removed]",
      "text/plain": [
       "<matplotlib.figure.Figure at 0x116d75748>"
      ]
     },
     "metadata": {},
     "output_type": "display_data"
    }
   ],
   "source": [
    "Miss = titanic.loc[titanic['Title']=='Miss']\n",
    "miss_age_histogram = Miss['Age'].hist()\n",
    "miss_age_histogram.set(xlabel = \"Age\",ylabel=\"Count of Age\" )"
   ]
  },
  {
   "cell_type": "code",
   "execution_count": 10,
   "metadata": {
    "collapsed": false
   },
   "outputs": [
    {
     "data": {
      "text/plain": [
       "count    146.000000\n",
       "mean      21.773973\n",
       "std       12.990292\n",
       "min        0.750000\n",
       "25%       14.125000\n",
       "50%       21.000000\n",
       "75%       30.000000\n",
       "max       63.000000\n",
       "Name: Age, dtype: float64"
      ]
     },
     "execution_count": 10,
     "metadata": {},
     "output_type": "execute_result"
    }
   ],
   "source": [
    "Miss['Age'].describe()"
   ]
  },
  {
   "cell_type": "markdown",
   "metadata": {},
   "source": [
    "The age of Passengers with the title Miss seems to have a large degree of variance. The median age is 21.00 with a standard deviation of 12.99. The youngest passenger with Miss in the title was 9 months old and the oldest was 63 years old."
   ]
  },
  {
   "cell_type": "code",
   "execution_count": 11,
   "metadata": {
    "collapsed": false
   },
   "outputs": [
    {
     "data": {
      "text/plain": [
       "[<matplotlib.text.Text at 0x117679f98>, <matplotlib.text.Text at 0x117454518>]"
      ]
     },
     "execution_count": 11,
     "metadata": {},
     "output_type": "execute_result"
    },
    {
     "data": {
      "image/png": "[encoded data removed]",
      "text/plain": [
       "<matplotlib.figure.Figure at 0x11766e048>"
      ]
     },
     "metadata": {},
     "output_type": "display_data"
    }
   ],
   "source": [
    "Misses = titanic.loc[titanic['Title']=='Mrs']\n",
    "misses_age_histogram = Misses['Age'].hist()\n",
    "misses_age_histogram.set(xlabel = \"Age\",ylabel=\"Count of Age\" )"
   ]
  },
  {
   "cell_type": "code",
   "execution_count": 12,
   "metadata": {
    "collapsed": false
   },
   "outputs": [
    {
     "data": {
      "text/plain": [
       "count    108.000000\n",
       "mean      35.898148\n",
       "std       11.433628\n",
       "min       14.000000\n",
       "25%       27.750000\n",
       "50%       35.000000\n",
       "75%       44.000000\n",
       "max       63.000000\n",
       "Name: Age, dtype: float64"
      ]
     },
     "execution_count": 12,
     "metadata": {},
     "output_type": "execute_result"
    }
   ],
   "source": [
    "Misses['Age'].describe()"
   ]
  },
  {
   "cell_type": "markdown",
   "metadata": {},
   "source": [
    "The age of passengers with the title Miss seems to have a slightly smaller degree of variance. The median age is 35.00 with a standard deviation of 11.43. The youngest passenger with Mrs in the title was 14 months old and the oldest was 63 years old."
   ]
  },
  {
   "cell_type": "markdown",
   "metadata": {},
   "source": [
    "## Comparing Mrs to Miss"
   ]
  },
  {
   "cell_type": "code",
   "execution_count": 13,
   "metadata": {
    "collapsed": false
   },
   "outputs": [
    {
     "data": {
      "image/png": "[encoded data removed]",
      "text/plain": [
       "<matplotlib.figure.Figure at 0x1176a2898>"
      ]
     },
     "metadata": {},
     "output_type": "display_data"
    }
   ],
   "source": [
    "bins = np.linspace(0, 70, 12)\n",
    "\n",
    "pyplot.hist(Miss['Age'], bins, alpha=.5, label='Miss')\n",
    "pyplot.hist(Misses['Age'], bins, alpha=.5, label='Misses')\n",
    "pyplot.legend(loc='upper right')\n",
    "pyplot.xlabel('Occurrence')\n",
    "pyplot.ylabel('Age')\n",
    "pyplot.show()"
   ]
  },
  {
   "cell_type": "markdown",
   "metadata": {},
   "source": [
    "It looks like Misses is distributed more heavily towards the older population. This is reasonable, as these titles are typically related to marital status. One oddity with this data are the records where Misses is under 20 years old. I will drill into these records further"
   ]
  },
  {
   "cell_type": "code",
   "execution_count": 14,
   "metadata": {
    "collapsed": false
   },
   "outputs": [
    {
     "data": {
      "text/html": [
       "<div>\n",
       "<table border=\"1\" class=\"dataframe\">\n",
       "  <thead>\n",
       "    <tr style=\"text-align: right;\">\n",
       "      <th></th>\n",
       "      <th>index</th>\n",
       "      <th>PassengerId</th>\n",
       "      <th>Survived</th>\n",
       "      <th>Pclass</th>\n",
       "      <th>Name</th>\n",
       "      <th>Sex</th>\n",
       "      <th>Age</th>\n",
       "      <th>SibSp</th>\n",
       "      <th>Parch</th>\n",
       "      <th>Ticket</th>\n",
       "      <th>Fare</th>\n",
       "      <th>Cabin</th>\n",
       "      <th>Embarked</th>\n",
       "      <th>Title</th>\n",
       "    </tr>\n",
       "  </thead>\n",
       "  <tbody>\n",
       "    <tr>\n",
       "      <th>9</th>\n",
       "      <td>9.0</td>\n",
       "      <td>10.0</td>\n",
       "      <td>1.0</td>\n",
       "      <td>2.0</td>\n",
       "      <td>Nasser, Mrs. Nicholas (Adele Achem)</td>\n",
       "      <td>female</td>\n",
       "      <td>14.0</td>\n",
       "      <td>1.0</td>\n",
       "      <td>0.0</td>\n",
       "      <td>237736</td>\n",
       "      <td>30.0708</td>\n",
       "      <td>None</td>\n",
       "      <td>C</td>\n",
       "      <td>Mrs</td>\n",
       "    </tr>\n",
       "    <tr>\n",
       "      <th>49</th>\n",
       "      <td>49.0</td>\n",
       "      <td>50.0</td>\n",
       "      <td>0.0</td>\n",
       "      <td>3.0</td>\n",
       "      <td>Arnold-Franchi, Mrs. Josef (Josefine Franchi)</td>\n",
       "      <td>female</td>\n",
       "      <td>18.0</td>\n",
       "      <td>1.0</td>\n",
       "      <td>0.0</td>\n",
       "      <td>349237</td>\n",
       "      <td>17.8000</td>\n",
       "      <td>None</td>\n",
       "      <td>S</td>\n",
       "      <td>Mrs</td>\n",
       "    </tr>\n",
       "    <tr>\n",
       "      <th>291</th>\n",
       "      <td>291.0</td>\n",
       "      <td>292.0</td>\n",
       "      <td>1.0</td>\n",
       "      <td>1.0</td>\n",
       "      <td>Bishop, Mrs. Dickinson H (Helen Walton)</td>\n",
       "      <td>female</td>\n",
       "      <td>19.0</td>\n",
       "      <td>1.0</td>\n",
       "      <td>0.0</td>\n",
       "      <td>11967</td>\n",
       "      <td>91.0792</td>\n",
       "      <td>B49</td>\n",
       "      <td>C</td>\n",
       "      <td>Mrs</td>\n",
       "    </tr>\n",
       "    <tr>\n",
       "      <th>307</th>\n",
       "      <td>307.0</td>\n",
       "      <td>308.0</td>\n",
       "      <td>1.0</td>\n",
       "      <td>1.0</td>\n",
       "      <td>Penasco y Castellana, Mrs. Victor de Satode (M...</td>\n",
       "      <td>female</td>\n",
       "      <td>17.0</td>\n",
       "      <td>1.0</td>\n",
       "      <td>0.0</td>\n",
       "      <td>PC 17758</td>\n",
       "      <td>108.9000</td>\n",
       "      <td>C65</td>\n",
       "      <td>C</td>\n",
       "      <td>Mrs</td>\n",
       "    </tr>\n",
       "    <tr>\n",
       "      <th>546</th>\n",
       "      <td>546.0</td>\n",
       "      <td>547.0</td>\n",
       "      <td>1.0</td>\n",
       "      <td>2.0</td>\n",
       "      <td>Beane, Mrs. Edward (Ethel Clarke)</td>\n",
       "      <td>female</td>\n",
       "      <td>19.0</td>\n",
       "      <td>1.0</td>\n",
       "      <td>0.0</td>\n",
       "      <td>2908</td>\n",
       "      <td>26.0000</td>\n",
       "      <td>None</td>\n",
       "      <td>S</td>\n",
       "      <td>Mrs</td>\n",
       "    </tr>\n",
       "    <tr>\n",
       "      <th>700</th>\n",
       "      <td>700.0</td>\n",
       "      <td>701.0</td>\n",
       "      <td>1.0</td>\n",
       "      <td>1.0</td>\n",
       "      <td>Astor, Mrs. John Jacob (Madeleine Talmadge Force)</td>\n",
       "      <td>female</td>\n",
       "      <td>18.0</td>\n",
       "      <td>1.0</td>\n",
       "      <td>0.0</td>\n",
       "      <td>PC 17757</td>\n",
       "      <td>227.5250</td>\n",
       "      <td>C62 C64</td>\n",
       "      <td>C</td>\n",
       "      <td>Mrs</td>\n",
       "    </tr>\n",
       "    <tr>\n",
       "      <th>781</th>\n",
       "      <td>781.0</td>\n",
       "      <td>782.0</td>\n",
       "      <td>1.0</td>\n",
       "      <td>1.0</td>\n",
       "      <td>Dick, Mrs. Albert Adrian (Vera Gillespie)</td>\n",
       "      <td>female</td>\n",
       "      <td>17.0</td>\n",
       "      <td>1.0</td>\n",
       "      <td>0.0</td>\n",
       "      <td>17474</td>\n",
       "      <td>57.0000</td>\n",
       "      <td>B20</td>\n",
       "      <td>S</td>\n",
       "      <td>Mrs</td>\n",
       "    </tr>\n",
       "    <tr>\n",
       "      <th>830</th>\n",
       "      <td>830.0</td>\n",
       "      <td>831.0</td>\n",
       "      <td>1.0</td>\n",
       "      <td>3.0</td>\n",
       "      <td>Yasbeck, Mrs. Antoni (Selini Alexander)</td>\n",
       "      <td>female</td>\n",
       "      <td>15.0</td>\n",
       "      <td>1.0</td>\n",
       "      <td>0.0</td>\n",
       "      <td>2659</td>\n",
       "      <td>14.4542</td>\n",
       "      <td>None</td>\n",
       "      <td>C</td>\n",
       "      <td>Mrs</td>\n",
       "    </tr>\n",
       "    <tr>\n",
       "      <th>855</th>\n",
       "      <td>855.0</td>\n",
       "      <td>856.0</td>\n",
       "      <td>1.0</td>\n",
       "      <td>3.0</td>\n",
       "      <td>Aks, Mrs. Sam (Leah Rosen)</td>\n",
       "      <td>female</td>\n",
       "      <td>18.0</td>\n",
       "      <td>0.0</td>\n",
       "      <td>1.0</td>\n",
       "      <td>392091</td>\n",
       "      <td>9.3500</td>\n",
       "      <td>None</td>\n",
       "      <td>S</td>\n",
       "      <td>Mrs</td>\n",
       "    </tr>\n",
       "  </tbody>\n",
       "</table>\n",
       "</div>"
      ],
      "text/plain": [
       "     index  PassengerId  Survived  Pclass  \\\n",
       "9      9.0         10.0       1.0     2.0   \n",
       "49    49.0         50.0       0.0     3.0   \n",
       "291  291.0        292.0       1.0     1.0   \n",
       "307  307.0        308.0       1.0     1.0   \n",
       "546  546.0        547.0       1.0     2.0   \n",
       "700  700.0        701.0       1.0     1.0   \n",
       "781  781.0        782.0       1.0     1.0   \n",
       "830  830.0        831.0       1.0     3.0   \n",
       "855  855.0        856.0       1.0     3.0   \n",
       "\n",
       "                                                  Name     Sex   Age  SibSp  \\\n",
       "9                  Nasser, Mrs. Nicholas (Adele Achem)  female  14.0    1.0   \n",
       "49       Arnold-Franchi, Mrs. Josef (Josefine Franchi)  female  18.0    1.0   \n",
       "291            Bishop, Mrs. Dickinson H (Helen Walton)  female  19.0    1.0   \n",
       "307  Penasco y Castellana, Mrs. Victor de Satode (M...  female  17.0    1.0   \n",
       "546                  Beane, Mrs. Edward (Ethel Clarke)  female  19.0    1.0   \n",
       "700  Astor, Mrs. John Jacob (Madeleine Talmadge Force)  female  18.0    1.0   \n",
       "781          Dick, Mrs. Albert Adrian (Vera Gillespie)  female  17.0    1.0   \n",
       "830            Yasbeck, Mrs. Antoni (Selini Alexander)  female  15.0    1.0   \n",
       "855                         Aks, Mrs. Sam (Leah Rosen)  female  18.0    0.0   \n",
       "\n",
       "     Parch    Ticket      Fare    Cabin Embarked Title  \n",
       "9      0.0    237736   30.0708     None        C   Mrs  \n",
       "49     0.0    349237   17.8000     None        S   Mrs  \n",
       "291    0.0     11967   91.0792      B49        C   Mrs  \n",
       "307    0.0  PC 17758  108.9000      C65        C   Mrs  \n",
       "546    0.0      2908   26.0000     None        S   Mrs  \n",
       "700    0.0  PC 17757  227.5250  C62 C64        C   Mrs  \n",
       "781    0.0     17474   57.0000      B20        S   Mrs  \n",
       "830    0.0      2659   14.4542     None        C   Mrs  \n",
       "855    1.0    392091    9.3500     None        S   Mrs  "
      ]
     },
     "execution_count": 14,
     "metadata": {},
     "output_type": "execute_result"
    }
   ],
   "source": [
    "Misses.where(Misses['Age']<20).dropna(subset=['Age'])"
   ]
  },
  {
   "cell_type": "markdown",
   "metadata": {},
   "source": [
    "Fro the name field, each female with a title of Mrs also has their husband's name. Although this would be highly atypical in 2017, it is not outside of the realm of possiblity in 1912."
   ]
  },
  {
   "cell_type": "code",
   "execution_count": 15,
   "metadata": {
    "collapsed": false
   },
   "outputs": [
    {
     "data": {
      "text/plain": [
       "[<matplotlib.text.Text at 0x117aaa978>, <matplotlib.text.Text at 0x117a712e8>]"
      ]
     },
     "execution_count": 15,
     "metadata": {},
     "output_type": "execute_result"
    },
    {
     "data": {
      "image/png": "[encoded data removed]",
      "text/plain": [
       "<matplotlib.figure.Figure at 0x117a50a90>"
      ]
     },
     "metadata": {},
     "output_type": "display_data"
    }
   ],
   "source": [
    "Mister = titanic.loc[titanic['Title']=='Mr']\n",
    "mister_age_histogram = Mister['Age'].hist()\n",
    "mister_age_histogram.set(xlabel = \"Age\",ylabel=\"Count of Age\" )"
   ]
  },
  {
   "cell_type": "code",
   "execution_count": 16,
   "metadata": {
    "collapsed": false
   },
   "outputs": [
    {
     "data": {
      "text/plain": [
       "[<matplotlib.text.Text at 0x117e21c50>, <matplotlib.text.Text at 0x117aa78d0>]"
      ]
     },
     "execution_count": 16,
     "metadata": {},
     "output_type": "execute_result"
    },
    {
     "data": {
      "image/png": "[encoded data removed]",
      "text/plain": [
       "<matplotlib.figure.Figure at 0x117e0e908>"
      ]
     },
     "metadata": {},
     "output_type": "display_data"
    }
   ],
   "source": [
    "Master = titanic.loc[titanic['Title']=='Master']\n",
    "master_age_histogram = Master['Age'].hist()\n",
    "master_age_histogram.set(xlabel = \"Age\",ylabel=\"Count of Age\" )"
   ]
  },
  {
   "cell_type": "code",
   "execution_count": 17,
   "metadata": {
    "collapsed": false
   },
   "outputs": [
    {
     "data": {
      "image/png": "[encoded data removed]",
      "text/plain": [
       "<matplotlib.figure.Figure at 0x117e3b208>"
      ]
     },
     "metadata": {},
     "output_type": "display_data"
    }
   ],
   "source": [
    "bins = np.linspace(0, 70, 12)\n",
    "\n",
    "pyplot.hist(Mister['Age'], bins, alpha=.5, label='Mister')\n",
    "pyplot.hist(Master['Age'], bins, alpha=.5, label='Master')\n",
    "pyplot.xlabel('Occurrence')\n",
    "pyplot.ylabel('Age')\n",
    "pyplot.legend(loc='upper right')\n",
    "pyplot.show()"
   ]
  },
  {
   "cell_type": "markdown",
   "metadata": {},
   "source": [
    "A large proportion of those with the Mister title are under 20 years old. Although there was a clear delination between married and unmarried female passengers (i.e. parenthesis in the name of the passenger) there are no obvious indicators of marriage for male passengers."
   ]
  },
  {
   "cell_type": "code",
   "execution_count": 18,
   "metadata": {
    "collapsed": false
   },
   "outputs": [
    {
     "data": {
      "text/html": [
       "<div>\n",
       "<table border=\"1\" class=\"dataframe\">\n",
       "  <thead>\n",
       "    <tr style=\"text-align: right;\">\n",
       "      <th></th>\n",
       "      <th>NamePartOne</th>\n",
       "      <th>NamePartTwo</th>\n",
       "      <th>SibSp</th>\n",
       "      <th>Parch</th>\n",
       "      <th>Name</th>\n",
       "      <th>NamePartOne</th>\n",
       "      <th>NamePartTwo</th>\n",
       "      <th>SibSp</th>\n",
       "      <th>Parch</th>\n",
       "      <th>Name</th>\n",
       "    </tr>\n",
       "  </thead>\n",
       "  <tbody>\n",
       "  </tbody>\n",
       "</table>\n",
       "</div>"
      ],
      "text/plain": [
       "Empty DataFrame\n",
       "Columns: [NamePartOne, NamePartTwo, SibSp, Parch, Name, NamePartOne, NamePartTwo, SibSp, Parch, Name]\n",
       "Index: []"
      ]
     },
     "execution_count": 18,
     "metadata": {},
     "output_type": "execute_result"
    }
   ],
   "source": [
    "\"\"\"\n",
    "The query below will match passengers where their first and last name's match.\n",
    "The data that we are currently looking at is a sample of the titanic data, and therefore\n",
    "nothing can be deduced from the results of this query. With a more complete dataset, this query\n",
    "could help with analysis.\n",
    "\"\"\"\n",
    "\n",
    "pd.read_sql(\"\"\"\n",
    "    select \n",
    "        *\n",
    "    From\n",
    "        (\n",
    "            select\n",
    "                substr(Name, 0, instr(Name,',')) as NamePartOne,\n",
    "                substr(Name, instr(Name,'.')+1, length(Name)) as NamePartTwo,\n",
    "                SibSp,\n",
    "                Parch,\n",
    "                Name\n",
    "            from titanic\n",
    "            where \n",
    "                name LIKE \"%Mr.%\"\n",
    "        ) as Mister\n",
    "    JOIN\n",
    "        (\n",
    "            select\n",
    "                substr(Name, 0, instr(Name,',')) as NamePartOne,\n",
    "                substr(Name, instr(Name,'.')+1, length(Name)) as NamePartTwo,\n",
    "                SibSp,\n",
    "                Parch,\n",
    "                Name\n",
    "            from titanic\n",
    "            where \n",
    "                name LIKE \"%Mrs.%\"\n",
    "        ) as Misses\n",
    "        ON Misses.NamePartOne = Mister.NamePartOne\n",
    "            and Misses.NamePartTwo = Mister.NamePartTwo+\"%\"\n",
    "    \"\"\", conn)"
   ]
  },
  {
   "cell_type": "code",
   "execution_count": 19,
   "metadata": {
    "collapsed": false
   },
   "outputs": [
    {
     "data": {
      "text/plain": [
       "<matplotlib.text.Text at 0x118230a20>"
      ]
     },
     "execution_count": 19,
     "metadata": {},
     "output_type": "execute_result"
    },
    {
     "data": {
      "image/png": "[encoded data removed]",
      "text/plain": [
       "<matplotlib.figure.Figure at 0x117f86470>"
      ]
     },
     "metadata": {},
     "output_type": "display_data"
    }
   ],
   "source": [
    "#titanic['SibSp'].value_counts().plot(kind =\"bar\", title =\"Sibling/Spouse Distribution\")\n",
    "plot = titanic[['SibSp','Survived']].groupby(\"SibSp\")['Survived'].agg(np.mean).plot(kind =\"bar\")\n",
    "plot.set_ylabel('Survival %')"
   ]
  },
  {
   "cell_type": "markdown",
   "metadata": {},
   "source": [
    "## Formal Hypothesis testing\n",
    "\n",
    "Now I will do some formal analysis of the features in the dataset."
   ]
  },
  {
   "cell_type": "code",
   "execution_count": 20,
   "metadata": {
    "collapsed": false
   },
   "outputs": [
    {
     "data": {
      "text/plain": [
       "<matplotlib.text.Text at 0x118212198>"
      ]
     },
     "execution_count": 20,
     "metadata": {},
     "output_type": "execute_result"
    },
    {
     "data": {
      "image/png": "[encoded data removed]",
      "text/plain": [
       "<matplotlib.figure.Figure at 0x11823aeb8>"
      ]
     },
     "metadata": {},
     "output_type": "display_data"
    }
   ],
   "source": [
    "plot = titanic['Parch'].value_counts().plot(kind =\"bar\", title =\"Parch Distribution\")\n",
    "plot.set_xlabel('Parent/Child')\n",
    "plot.set_ylabel('Count')"
   ]
  },
  {
   "cell_type": "markdown",
   "metadata": {},
   "source": [
    "## Looking at the questions which I hope to answer, I see some of the relevant features of the data set are Age, Sex, and Pclass."
   ]
  },
  {
   "cell_type": "markdown",
   "metadata": {},
   "source": [
    "### I will test if there is a significant differents between the survival of males vs the survival of females in the titanic. Formally my hypthosis will be as follows\n",
    "\n",
    "H<sub>0</sub>: Survival and gender are independent.\n",
    "\n",
    "H<sub>1</sub>: Survival and gender are not independent."
   ]
  },
  {
   "cell_type": "code",
   "execution_count": 21,
   "metadata": {
    "collapsed": false
   },
   "outputs": [
    {
     "data": {
      "text/plain": [
       "<matplotlib.text.Text at 0x117e0afd0>"
      ]
     },
     "execution_count": 21,
     "metadata": {},
     "output_type": "execute_result"
    },
    {
     "data": {
      "image/png": "[encoded data removed]",
      "text/plain": [
       "<matplotlib.figure.Figure at 0x118081518>"
      ]
     },
     "metadata": {},
     "output_type": "display_data"
    }
   ],
   "source": [
    "genderDF = pd.read_sql(\"\"\"\n",
    "    select\n",
    "        Sex,\n",
    "        sum(Survived) as Survivors,\n",
    "        count(Survived) as \"Total (Stacked)\"\n",
    "    from titanic\n",
    "    group by Sex;\n",
    "    \"\"\", conn)\n",
    "\n",
    "\n",
    "ax = genderDF.plot(kind=\"bar\", stacked= True)\n",
    "ax.set_xticklabels(genderDF.Sex)\n",
    "ax.set_xlabel('Gender')\n",
    "ax.set_ylabel('Count')"
   ]
  },
  {
   "cell_type": "markdown",
   "metadata": {},
   "source": [
    "This graph shows that, while there were fewer females than males, a greater number of females survived than males. I will investigate whether this difference is statistically significant below."
   ]
  },
  {
   "cell_type": "code",
   "execution_count": 22,
   "metadata": {
    "collapsed": false
   },
   "outputs": [
    {
     "name": "stdout",
     "output_type": "stream",
     "text": [
      "Sex       female  male\n",
      "Survived              \n",
      "0             64   360\n",
      "1            197    93\n",
      "Results of Chi-Squared test on Pclass to Survival.\n",
      "Does gender have a significant effect on Survival?\n",
      "Chi-Squared Score = 205.025827529\n",
      "Pvalue = 1.67166784414e-46\n",
      "\n",
      "\n"
     ]
    }
   ],
   "source": [
    "pivot = pd.pivot_table(data = titanic[['Survived', 'Sex']], index = 'Survived', columns = ['Sex'], aggfunc = len)\n",
    "print(pivot)\n",
    "chi2, p_value, dof, expected = chi2_contingency(pivot)\n",
    "print(\"Results of Chi-Squared test on Pclass to Survival.\")\n",
    "print(\"Does gender have a significant effect on Survival?\")\n",
    "print(\"Chi-Squared Score = \" + str(chi2))\n",
    "print(\"Pvalue = \" + str(p_value))\n",
    "print(\"\\n\")"
   ]
  },
  {
   "cell_type": "markdown",
   "metadata": {},
   "source": [
    "At the 99% confidence level, I must reject H<sub>0</sub> and Accept H<sub>a</sub> that survival and gender are not independent."
   ]
  },
  {
   "cell_type": "markdown",
   "metadata": {},
   "source": [
    "### I will test if there is a significant differents between the upper class and other passengers. Formally my hypthosis will be as follows\n",
    "\n",
    "H<sub>0</sub>: Pclass and Surival rates are independent.\n",
    "\n",
    "H<sub>1</sub>: Pclass and Survival rates are not independent."
   ]
  },
  {
   "cell_type": "code",
   "execution_count": 23,
   "metadata": {
    "collapsed": false
   },
   "outputs": [
    {
     "data": {
      "text/plain": [
       "<matplotlib.text.Text at 0x1182172b0>"
      ]
     },
     "execution_count": 23,
     "metadata": {},
     "output_type": "execute_result"
    },
    {
     "data": {
      "image/png": "[encoded data removed]",
      "text/plain": [
       "<matplotlib.figure.Figure at 0x11761bcf8>"
      ]
     },
     "metadata": {},
     "output_type": "display_data"
    }
   ],
   "source": [
    "PclassDF = pd.read_sql(\"\"\"\n",
    "    select\n",
    "        Pclass,\n",
    "        sum(Survived) as Survivors,\n",
    "        count(Survived) as \"Total (Stacked)\"\n",
    "    from titanic\n",
    "    group by Pclass;\n",
    "    \"\"\", conn)\n",
    "\n",
    "\n",
    "ax = PclassDF[['Survivors', 'Total (Stacked)']].plot(kind=\"bar\", stacked= True)\n",
    "ax.set_xticklabels(PclassDF.Pclass)\n",
    "ax.set_xlabel('PClass')\n",
    "ax.set_ylabel('Count')"
   ]
  },
  {
   "cell_type": "markdown",
   "metadata": {},
   "source": [
    "While third class passengers(which is a proxy for the patient's social standing) have a far greater total than 2nd or 1st class passengers, the number of survivors is roughly the same. I will test if this difference is statistically significant."
   ]
  },
  {
   "cell_type": "code",
   "execution_count": 24,
   "metadata": {
    "collapsed": false
   },
   "outputs": [
    {
     "name": "stdout",
     "output_type": "stream",
     "text": [
      "         Survived\n",
      "count  216.000000\n",
      "mean     0.629630\n",
      "std      0.484026\n",
      "min      0.000000\n",
      "25%      0.000000\n",
      "50%      1.000000\n",
      "75%      1.000000\n",
      "max      1.000000\n",
      "         Survived\n",
      "count  184.000000\n",
      "mean     0.472826\n",
      "std      0.500623\n",
      "min      0.000000\n",
      "25%      0.000000\n",
      "50%      0.000000\n",
      "75%      1.000000\n",
      "max      1.000000\n",
      "         Survived\n",
      "count  491.000000\n",
      "mean     0.242363\n",
      "std      0.428949\n",
      "min      0.000000\n",
      "25%      0.000000\n",
      "50%      0.000000\n",
      "75%      0.000000\n",
      "max      1.000000\n"
     ]
    }
   ],
   "source": [
    "lower_class = pd.read_sql(\"\"\"\n",
    "    select\n",
    "        Survived\n",
    "    from titanic\n",
    "    where \n",
    "        Pclass = 3;\n",
    "    \"\"\", conn)\n",
    "middle_class = pd.read_sql(\"\"\"\n",
    "    select\n",
    "        Survived\n",
    "    from titanic\n",
    "    where \n",
    "        Pclass = 2;\n",
    "    \"\"\", conn)\n",
    "upper_class = pd.read_sql(\"\"\"\n",
    "    select\n",
    "        Survived\n",
    "    from titanic\n",
    "    where \n",
    "        Pclass = 1;\n",
    "    \"\"\", conn)\n",
    "print(upper_class.describe())\n",
    "print(middle_class.describe())\n",
    "print(lower_class.describe())\n"
   ]
  },
  {
   "cell_type": "code",
   "execution_count": 25,
   "metadata": {
    "collapsed": false
   },
   "outputs": [
    {
     "name": "stdout",
     "output_type": "stream",
     "text": [
      "Pclass      1   2    3\n",
      "Survived              \n",
      "0          64  90  270\n",
      "1         122  83   85 \n",
      "\n",
      "Results of Chi-Squared test on Pclass to Survival.\n",
      "Does Pclass have a significant effect on Survival?\n",
      "Chi-Squared Score = 92.9014172114\n",
      "Pvalue = 6.70986174976e-21\n",
      "\n",
      "\n"
     ]
    }
   ],
   "source": [
    "pivot = pd.pivot_table(data = titanic[['Survived', 'Pclass']], index = 'Survived', columns = ['Pclass'], aggfunc = len)\n",
    "print(pivot,\"\\n\")\n",
    "\n",
    "\n",
    "chi2, p_value, dof, expected = chi2_contingency(pivot)\n",
    "print(\"Results of Chi-Squared test on Pclass to Survival.\")\n",
    "print(\"Does Pclass have a significant effect on Survival?\")\n",
    "print(\"Chi-Squared Score = \" + str(chi2))\n",
    "print(\"Pvalue = \" + str(p_value))\n",
    "print(\"\\n\")"
   ]
  },
  {
   "cell_type": "markdown",
   "metadata": {},
   "source": [
    "At the 99% confidence level, I must reject H<sub>0</sub> and Accept H<sub>a</sub> that there is a statistically significant difference in survival rates"
   ]
  },
  {
   "cell_type": "code",
   "execution_count": 26,
   "metadata": {
    "collapsed": false,
    "scrolled": true
   },
   "outputs": [
    {
     "data": {
      "image/png": "[encoded data removed]",
      "text/plain": [
       "<matplotlib.figure.Figure at 0x118312898>"
      ]
     },
     "metadata": {},
     "output_type": "display_data"
    }
   ],
   "source": [
    "AgeDF = pd.read_sql(\"\"\"\n",
    "    select\n",
    "        Age,\n",
    "        Survived\n",
    "    from titanic\n",
    "    group by Age;\n",
    "    \"\"\", conn)\n",
    "\n",
    "\n",
    "ax = AgeDF.plot(kind=\"scatter\", x=\"Age\", y=\"Survived\", yticks=[0,1])\n"
   ]
  },
  {
   "cell_type": "raw",
   "metadata": {},
   "source": [
    "It appears that the age of the surviving passengers are skewed towards the younger half. I will test to see if there is a statistical difference."
   ]
  },
  {
   "cell_type": "markdown",
   "metadata": {},
   "source": [
    "### I will test if there is a significant differents between the survival of children vs adults.  I do not want to compare the mean age, but rather compare the ages in groups. Therefore, I will stratify ages in ten year increments. Formally my hypthosis will be as follows\n",
    "\n",
    "H<sub>0</sub>: Age and survival are independent.\n",
    "\n",
    "H<sub>1</sub>: Age and survival are not independent."
   ]
  },
  {
   "cell_type": "code",
   "execution_count": 27,
   "metadata": {
    "collapsed": false
   },
   "outputs": [
    {
     "name": "stdout",
     "output_type": "stream",
     "text": [
      "Rounded_Age\n",
      "0.0      44\n",
      "10.0     34\n",
      "20.0    223\n",
      "30.0    178\n",
      "40.0    132\n",
      "50.0     61\n",
      "60.0     34\n",
      "70.0      7\n",
      "80.0      1\n",
      "Name: Survived, dtype: int64\n",
      "Rounded_Age  0.0   10.0  20.0  30.0  40.0  50.0  60.0  70.0  80.0\n",
      "Survived                                                         \n",
      "0              13    20   144   106    76    36    22     7     0\n",
      "1              31    14    79    72    56    25    12     0     1 \n",
      "\n",
      "Results of Chi-Squared test on Age to Survival.\n",
      "Does Age have a significant effect on Survival?\n",
      "Chi-Squared Score = 25.5702920151\n",
      "Pvalue = 0.0012436364166\n",
      "\n",
      "\n"
     ]
    }
   ],
   "source": [
    "titanic['Rounded_Age']=titanic['Age'].apply(lambda x : round(x,-1))\n",
    "print(titanic[['Survived','Rounded_Age','Age']].groupby('Rounded_Age')['Survived'].count())\n",
    "\n",
    "pivot = pd.pivot_table(data = titanic[['Survived', 'Rounded_Age']], index = 'Survived', columns = ['Rounded_Age'], aggfunc = len, fill_value=0)\n",
    "print(pivot,\"\\n\")\n",
    "\n",
    "\n",
    "chi2, p_value, dof, expected = chi2_contingency(pivot)\n",
    "print(\"Results of Chi-Squared test on Age to Survival.\")\n",
    "print(\"Does Age have a significant effect on Survival?\")\n",
    "print(\"Chi-Squared Score = \" + str(chi2))\n",
    "print(\"Pvalue = \" + str(p_value))\n",
    "print(\"\\n\")"
   ]
  },
  {
   "cell_type": "markdown",
   "metadata": {
    "collapsed": true
   },
   "source": [
    "At the 99% confidence level, I must reject H<sub>0</sub> and Accept H<sub>a</sub> that survival and age are not independent."
   ]
  },
  {
   "cell_type": "markdown",
   "metadata": {},
   "source": [
    "# Conclusion:\n",
    "\n",
    "In conclusion, I have found that age, gender, and class all seemed to have a statistically significant relationship with the survival rate of passengers on the titanic. Further I have explored some of the intricacies of titles in 1912 and have a greater sense of the underlying data.\n",
    "\n",
    "## Limitations of the report\n",
    "\n",
    "The dataset had values for age missing. Records without age were removed from the dataset. Removing this data from the data set my bias percieved relationship between age and survival.  \n",
    "\n",
    "Further, the dataset provided for this analysis was only a sample of the total population aboard the Titanic, and in some places data was missing. \n",
    "\n"
   ]
  }
 ],
 "metadata": {
  "anaconda-cloud": {},
  "kernelspec": {
   "display_name": "Python [conda root]",
   "language": "python",
   "name": "conda-root-py"
  },
  "language_info": {
   "codemirror_mode": {
    "name": "ipython",
    "version": 3
   },
   "file_extension": ".py",
   "mimetype": "text/x-python",
   "name": "python",
   "nbconvert_exporter": "python",
   "pygments_lexer": "ipython3",
   "version": "3.5.2"
  }
 },
 "nbformat": 4,
 "nbformat_minor": 1
}
