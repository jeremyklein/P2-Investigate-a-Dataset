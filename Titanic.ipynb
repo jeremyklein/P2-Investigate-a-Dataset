{
 "cells": [
  {
   "cell_type": "code",
   "execution_count": 15,
   "metadata": {
    "collapsed": false
   },
   "outputs": [],
   "source": [
    "import csv\n",
    "import numpy as np\n",
    "import os\n",
    "import scipy.stats\n",
    "import pandas as pd\n",
    "import sqlite3 as sql\n",
    "from scipy.stats import chi2_contingency\n",
    "%matplotlib inline"
   ]
  },
  {
   "cell_type": "markdown",
   "metadata": {},
   "source": [
    "# Titanic Data Analysis\n",
    "## Questions to investigate:\n",
    "\n",
    "   How accurate was titanic the movie?\n",
    "   Were women and children more likely to survive?\n",
    "   Were people in the lower class less likely to survive?\n",
    "    "
   ]
  },
  {
   "cell_type": "markdown",
   "metadata": {},
   "source": [
    "## Loading the Data\n",
    "### First I am loading the data into a Pandas Data frame."
   ]
  },
  {
   "cell_type": "code",
   "execution_count": 9,
   "metadata": {
    "collapsed": false,
    "scrolled": true
   },
   "outputs": [
    {
     "name": "stdout",
     "output_type": "stream",
     "text": [
      "<class 'pandas.core.frame.DataFrame'>\n",
      "RangeIndex: 891 entries, 0 to 890\n",
      "Data columns (total 13 columns):\n",
      "index          891 non-null int64\n",
      "PassengerId    891 non-null int64\n",
      "Survived       891 non-null int64\n",
      "Pclass         891 non-null int64\n",
      "Name           891 non-null object\n",
      "Sex            891 non-null object\n",
      "Age            714 non-null float64\n",
      "SibSp          891 non-null int64\n",
      "Parch          891 non-null int64\n",
      "Ticket         891 non-null object\n",
      "Fare           891 non-null float64\n",
      "Cabin          204 non-null object\n",
      "Embarked       889 non-null object\n",
      "dtypes: float64(2), int64(6), object(5)\n",
      "memory usage: 90.6+ KB\n"
     ]
    }
   ],
   "source": [
    "cwd = os.getcwd()\n",
    "data_set = os.path.join(cwd,\"titanic.db\")\n",
    "conn = sql.connect(data_set)\n",
    "titanic = pd.read_sql(\"select * from titanic;\", conn)\n",
    "titanic.info()"
   ]
  },
  {
   "cell_type": "markdown",
   "metadata": {},
   "source": [
    "## Looking at the questions which I hope to answer, I see some of the relevant features of the data set are Age, Sex, nd Pclass."
   ]
  },
  {
   "cell_type": "markdown",
   "metadata": {},
   "source": [
    "### I will test if there is a significant differents between the survival of males vs the survival of females in the titanic. Formally my hypthosis will be as follows\n",
    "\n",
    "H<sub>0</sub>: There is no statistical difference in the survival rate of males vs the survival rate of females.\n",
    "\n",
    "H<sub>1</sub>: There is a statistical difference in the survival rate of males vs the survival rate of females."
   ]
  },
  {
   "cell_type": "code",
   "execution_count": 3,
   "metadata": {
    "collapsed": false
   },
   "outputs": [
    {
     "data": {
      "text/plain": [
       "[<matplotlib.text.Text at 0x11413c450>, <matplotlib.text.Text at 0x114160ad0>]"
      ]
     },
     "execution_count": 3,
     "metadata": {},
     "output_type": "execute_result"
    },
    {
     "data": {
      "image/png": "[encoded data removed]",
      "text/plain": [
       "<matplotlib.figure.Figure at 0x1140cddd0>"
      ]
     },
     "metadata": {},
     "output_type": "display_data"
    }
   ],
   "source": [
    "genderDF = pd.read_sql(\"\"\"\n",
    "    select\n",
    "        Sex,\n",
    "        sum(Survived) as Survivors,\n",
    "        count(Survived) as \"Total (Stacked)\"\n",
    "    from titanic\n",
    "    group by Sex;\n",
    "    \"\"\", conn)\n",
    "\n",
    "\n",
    "ax = genderDF.plot(kind=\"bar\", stacked= True)\n",
    "ax.set_xticklabels(genderDF.Sex)"
   ]
  },
  {
   "cell_type": "markdown",
   "metadata": {},
   "source": [
    "This graph shows that, while there were fewer females than males, a greater number of females survived than males. I will investigate whether this difference is statistically significant below."
   ]
  },
  {
   "cell_type": "code",
   "execution_count": 16,
   "metadata": {
    "collapsed": false
   },
   "outputs": [
    {
     "name": "stdout",
     "output_type": "stream",
     "text": [
      "Sex       female  male\n",
      "Survived              \n",
      "0             81   468\n",
      "1            233   109\n",
      "Results of Chi-Squared test on Pclass to Survival.\n",
      "Does Pclass have a significant effect on Survival?\n",
      "Chi-Squared Score = 260.717020167\n",
      "Pvalue = 1.19735706278e-58\n",
      "\n",
      "\n"
     ]
    }
   ],
   "source": [
    "pivot = pd.pivot_table(data = titanic[['Survived', 'Sex']], index = 'Survived', columns = ['Sex'], aggfunc = len)\n",
    "print pivot\n",
    "chi2, p_value, dof, expected = chi2_contingency(pivot)\n",
    "print \"Results of Chi-Squared test on Pclass to Survival.\"\n",
    "print \"Does gender have a significant effect on Survival?\"\n",
    "print \"Chi-Squared Score = \" + str(chi2)\n",
    "print \"Pvalue = \" + str(p_value)\n",
    "print \"\\n\""
   ]
  },
  {
   "cell_type": "markdown",
   "metadata": {},
   "source": [
    "At the 99% confidence level, I must reject H<sub>0</sub> and Accept H<sub>a</sub> that there is a statistically significant difference in survival rates of males vs females."
   ]
  },
  {
   "cell_type": "markdown",
   "metadata": {},
   "source": [
    "### I will test if there is a significant differents between the upper class and other passengers. Formally my hypthosis will be as follows\n",
    "\n",
    "H<sub>0</sub>: There is no statistical difference in the survival rate of upper class vs others.\n",
    "\n",
    "H<sub>1</sub>: There is a statistical difference in the survival rate of upper class vs others."
   ]
  },
  {
   "cell_type": "code",
   "execution_count": 8,
   "metadata": {
    "collapsed": false
   },
   "outputs": [
    {
     "data": {
      "text/plain": [
       "[<matplotlib.text.Text at 0x115527fd0>,\n",
       " <matplotlib.text.Text at 0x115718c50>,\n",
       " <matplotlib.text.Text at 0x1158165d0>]"
      ]
     },
     "execution_count": 8,
     "metadata": {},
     "output_type": "execute_result"
    },
    {
     "data": {
      "image/png": "[encoded data removed]",
      "text/plain": [
       "<matplotlib.figure.Figure at 0x115692650>"
      ]
     },
     "metadata": {},
     "output_type": "display_data"
    }
   ],
   "source": [
    "PclassDF = pd.read_sql(\"\"\"\n",
    "    select\n",
    "        Pclass,\n",
    "        sum(Survived) as Survivors,\n",
    "        count(Survived) as \"Total (Stacked)\"\n",
    "    from titanic\n",
    "    group by Pclass;\n",
    "    \"\"\", conn)\n",
    "\n",
    "\n",
    "ax = PclassDF[['Survivors', 'Total (Stacked)']].plot(kind=\"bar\", stacked= True)\n",
    "ax.set_xticklabels(PclassDF.Pclass)"
   ]
  },
  {
   "cell_type": "markdown",
   "metadata": {},
   "source": [
    "While third class passengers(which is a proxy for the patient's social standing) have a far greater total than 2nd or 1st class passengers, the number of survivors is roughly the same. I will test if this difference is statistically significant."
   ]
  },
  {
   "cell_type": "code",
   "execution_count": 56,
   "metadata": {
    "collapsed": false
   },
   "outputs": [
    {
     "name": "stdout",
     "output_type": "stream",
     "text": [
      "         Survived\n",
      "count  216.000000\n",
      "mean     0.629630\n",
      "std      0.484026\n",
      "min      0.000000\n",
      "25%      0.000000\n",
      "50%      1.000000\n",
      "75%      1.000000\n",
      "max      1.000000\n",
      "         Survived\n",
      "count  184.000000\n",
      "mean     0.472826\n",
      "std      0.500623\n",
      "min      0.000000\n",
      "25%      0.000000\n",
      "50%      0.000000\n",
      "75%      1.000000\n",
      "max      1.000000\n",
      "         Survived\n",
      "count  491.000000\n",
      "mean     0.242363\n",
      "std      0.428949\n",
      "min      0.000000\n",
      "25%      0.000000\n",
      "50%      0.000000\n",
      "75%      0.000000\n",
      "max      1.000000\n"
     ]
    },
    {
     "data": {
      "text/plain": [
       "Ttest_indResult(statistic=array([ 10.15172889]), pvalue=array([  5.51028100e-23]))"
      ]
     },
     "execution_count": 56,
     "metadata": {},
     "output_type": "execute_result"
    }
   ],
   "source": []
  },
  {
   "cell_type": "markdown",
   "metadata": {},
   "source": [
    "At the 99% confidence level, I must reject H<sub>0</sub> and Accept H<sub>a</sub> that there is a statistically significant difference in survival rates"
   ]
  },
  {
   "cell_type": "code",
   "execution_count": 13,
   "metadata": {
    "collapsed": false,
    "scrolled": true
   },
   "outputs": [
    {
     "data": {
      "image/png": "[encoded data removed]",
      "text/plain": [
       "<matplotlib.figure.Figure at 0x114d3dd90>"
      ]
     },
     "metadata": {},
     "output_type": "display_data"
    }
   ],
   "source": [
    "AgeDF = pd.read_sql(\"\"\"\n",
    "    select\n",
    "        Age,\n",
    "        Survived\n",
    "    from titanic\n",
    "    group by Age;\n",
    "    \"\"\", conn)\n",
    "\n",
    "\n",
    "ax = AgeDF.plot(kind=\"scatter\", x=\"Age\", y=\"Survived\", yticks=[0,1])\n",
    "# ax.set_yticklabels([0,1])"
   ]
  },
  {
   "cell_type": "markdown",
   "metadata": {},
   "source": [
    "It appears that the age of the surviving passengers are skewed towards the younger half. I will test to see if there is a statistical difference."
   ]
  },
  {
   "cell_type": "markdown",
   "metadata": {},
   "source": [
    "### I will test if there is a significant differents between the survival of children vs adults. Formally my hypthosis will be as follows\n",
    "\n",
    "H<sub>0</sub>: There is no statistical difference in the survival rate of passengers under the age of 16.\n",
    "\n",
    "H<sub>1</sub>: There is a statistical difference in the survival rate of passengers 16 years or older"
   ]
  },
  {
   "cell_type": "code",
   "execution_count": 11,
   "metadata": {
    "collapsed": false
   },
   "outputs": [
    {
     "data": {
      "text/plain": [
       "Ttest_indResult(statistic=array([-3.66373042]), pvalue=array([ 0.00026702]))"
      ]
     },
     "execution_count": 11,
     "metadata": {},
     "output_type": "execute_result"
    }
   ],
   "source": [
    "adultDF = pd.read_sql(\"\"\"\n",
    "    select\n",
    "        Survived\n",
    "    from titanic\n",
    "    where \n",
    "        Age is not null\n",
    "        and Age >= 16;\n",
    "    \"\"\", conn)\n",
    "\n",
    "childDF = pd.read_sql(\"\"\"\n",
    "    select\n",
    "        Survived\n",
    "    from titanic\n",
    "    where \n",
    "        Age is not null\n",
    "        and Age <16;\n",
    "    \"\"\", conn)\n",
    "childDF\n",
    "\n",
    "scipy.stats.ttest_ind(adultDF,childDF)"
   ]
  },
  {
   "cell_type": "markdown",
   "metadata": {
    "collapsed": true
   },
   "source": [
    "At the 99% confidence level, I must reject H<sub>0</sub> and Accept H<sub>a</sub> that there is a statistically significant difference in survival rates"
   ]
  },
  {
   "cell_type": "markdown",
   "metadata": {},
   "source": [
    "# Conclusion.\n",
    "\n",
    "In conclusion, I have found that the scenes depicted in the movie is consistent with the data. Age, gender, and class all seemed to have a statistically significant relationship with the survival rate of passengers on teh titanic."
   ]
  }
 ],
 "metadata": {
  "anaconda-cloud": {},
  "kernelspec": {
   "display_name": "Python [conda root]",
   "language": "python",
   "name": "conda-root-py"
  },
  "language_info": {
   "codemirror_mode": {
    "name": "ipython",
    "version": 2
   },
   "file_extension": ".py",
   "mimetype": "text/x-python",
   "name": "python",
   "nbconvert_exporter": "python",
   "pygments_lexer": "ipython2",
   "version": "2.7.12"
  }
 },
 "nbformat": 4,
 "nbformat_minor": 1
}
